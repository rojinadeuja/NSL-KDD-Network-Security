{
 "cells": [
  {
   "cell_type": "markdown",
   "metadata": {},
   "source": [
    "# INTRUSION DETECTION MODEL"
   ]
  },
  {
   "cell_type": "markdown",
   "metadata": {},
   "source": [
    "## Import Modules"
   ]
  },
  {
   "cell_type": "code",
   "execution_count": 1,
   "metadata": {},
   "outputs": [],
   "source": [
    "import pandas as pd, numpy as np\n",
    "import matplotlib.pyplot as plt, seaborn as sns\n",
    "%matplotlib inline"
   ]
  },
  {
   "cell_type": "markdown",
   "metadata": {},
   "source": [
    "## Load Dataset"
   ]
  },
  {
   "cell_type": "code",
   "execution_count": 2,
   "metadata": {},
   "outputs": [],
   "source": [
    "train_df = pd.read_csv(\"Data/KDDSelectedTrain.csv\")\n",
    "test_df = pd.read_csv(\"Data/KDDSelectedTest.csv\")"
   ]
  },
  {
   "cell_type": "code",
   "execution_count": 3,
   "metadata": {},
   "outputs": [
    {
     "data": {
      "text/html": [
       "<div>\n",
       "<style scoped>\n",
       "    .dataframe tbody tr th:only-of-type {\n",
       "        vertical-align: middle;\n",
       "    }\n",
       "\n",
       "    .dataframe tbody tr th {\n",
       "        vertical-align: top;\n",
       "    }\n",
       "\n",
       "    .dataframe thead th {\n",
       "        text-align: right;\n",
       "    }\n",
       "</style>\n",
       "<table border=\"1\" class=\"dataframe\">\n",
       "  <thead>\n",
       "    <tr style=\"text-align: right;\">\n",
       "      <th></th>\n",
       "      <th>is_intrusion</th>\n",
       "      <th>flag_SF</th>\n",
       "      <th>same_srv_rate</th>\n",
       "      <th>dst_host_srv_count</th>\n",
       "      <th>logged_in</th>\n",
       "      <th>serror_rate</th>\n",
       "      <th>count</th>\n",
       "      <th>service_http</th>\n",
       "      <th>service_private</th>\n",
       "      <th>dst_host_count</th>\n",
       "      <th>service_domain_u</th>\n",
       "      <th>srv_rerror_rate</th>\n",
       "    </tr>\n",
       "  </thead>\n",
       "  <tbody>\n",
       "    <tr>\n",
       "      <th>0</th>\n",
       "      <td>0</td>\n",
       "      <td>1</td>\n",
       "      <td>0.08</td>\n",
       "      <td>1</td>\n",
       "      <td>0</td>\n",
       "      <td>0.0</td>\n",
       "      <td>13</td>\n",
       "      <td>0</td>\n",
       "      <td>0</td>\n",
       "      <td>255</td>\n",
       "      <td>0</td>\n",
       "      <td>0.0</td>\n",
       "    </tr>\n",
       "    <tr>\n",
       "      <th>1</th>\n",
       "      <td>1</td>\n",
       "      <td>0</td>\n",
       "      <td>0.05</td>\n",
       "      <td>26</td>\n",
       "      <td>0</td>\n",
       "      <td>1.0</td>\n",
       "      <td>123</td>\n",
       "      <td>0</td>\n",
       "      <td>1</td>\n",
       "      <td>255</td>\n",
       "      <td>0</td>\n",
       "      <td>0.0</td>\n",
       "    </tr>\n",
       "    <tr>\n",
       "      <th>2</th>\n",
       "      <td>0</td>\n",
       "      <td>1</td>\n",
       "      <td>1.00</td>\n",
       "      <td>255</td>\n",
       "      <td>1</td>\n",
       "      <td>0.2</td>\n",
       "      <td>5</td>\n",
       "      <td>1</td>\n",
       "      <td>0</td>\n",
       "      <td>30</td>\n",
       "      <td>0</td>\n",
       "      <td>0.0</td>\n",
       "    </tr>\n",
       "    <tr>\n",
       "      <th>3</th>\n",
       "      <td>0</td>\n",
       "      <td>1</td>\n",
       "      <td>1.00</td>\n",
       "      <td>255</td>\n",
       "      <td>1</td>\n",
       "      <td>0.0</td>\n",
       "      <td>30</td>\n",
       "      <td>1</td>\n",
       "      <td>0</td>\n",
       "      <td>255</td>\n",
       "      <td>0</td>\n",
       "      <td>0.0</td>\n",
       "    </tr>\n",
       "    <tr>\n",
       "      <th>4</th>\n",
       "      <td>1</td>\n",
       "      <td>0</td>\n",
       "      <td>0.16</td>\n",
       "      <td>19</td>\n",
       "      <td>0</td>\n",
       "      <td>0.0</td>\n",
       "      <td>121</td>\n",
       "      <td>0</td>\n",
       "      <td>1</td>\n",
       "      <td>255</td>\n",
       "      <td>0</td>\n",
       "      <td>1.0</td>\n",
       "    </tr>\n",
       "  </tbody>\n",
       "</table>\n",
       "</div>"
      ],
      "text/plain": [
       "   is_intrusion  flag_SF  same_srv_rate  dst_host_srv_count  logged_in  \\\n",
       "0             0        1           0.08                   1          0   \n",
       "1             1        0           0.05                  26          0   \n",
       "2             0        1           1.00                 255          1   \n",
       "3             0        1           1.00                 255          1   \n",
       "4             1        0           0.16                  19          0   \n",
       "\n",
       "   serror_rate  count  service_http  service_private  dst_host_count  \\\n",
       "0          0.0     13             0                0             255   \n",
       "1          1.0    123             0                1             255   \n",
       "2          0.2      5             1                0              30   \n",
       "3          0.0     30             1                0             255   \n",
       "4          0.0    121             0                1             255   \n",
       "\n",
       "   service_domain_u  srv_rerror_rate  \n",
       "0                 0              0.0  \n",
       "1                 0              0.0  \n",
       "2                 0              0.0  \n",
       "3                 0              0.0  \n",
       "4                 0              1.0  "
      ]
     },
     "execution_count": 3,
     "metadata": {},
     "output_type": "execute_result"
    }
   ],
   "source": [
    "train_df.head()"
   ]
  },
  {
   "cell_type": "code",
   "execution_count": 4,
   "metadata": {},
   "outputs": [
    {
     "data": {
      "text/html": [
       "<div>\n",
       "<style scoped>\n",
       "    .dataframe tbody tr th:only-of-type {\n",
       "        vertical-align: middle;\n",
       "    }\n",
       "\n",
       "    .dataframe tbody tr th {\n",
       "        vertical-align: top;\n",
       "    }\n",
       "\n",
       "    .dataframe thead th {\n",
       "        text-align: right;\n",
       "    }\n",
       "</style>\n",
       "<table border=\"1\" class=\"dataframe\">\n",
       "  <thead>\n",
       "    <tr style=\"text-align: right;\">\n",
       "      <th></th>\n",
       "      <th>is_intrusion</th>\n",
       "      <th>flag_SF</th>\n",
       "      <th>same_srv_rate</th>\n",
       "      <th>dst_host_srv_count</th>\n",
       "      <th>logged_in</th>\n",
       "      <th>serror_rate</th>\n",
       "      <th>count</th>\n",
       "      <th>service_http</th>\n",
       "      <th>service_private</th>\n",
       "      <th>dst_host_count</th>\n",
       "      <th>service_domain_u</th>\n",
       "      <th>srv_rerror_rate</th>\n",
       "    </tr>\n",
       "  </thead>\n",
       "  <tbody>\n",
       "    <tr>\n",
       "      <th>0</th>\n",
       "      <td>1</td>\n",
       "      <td>0</td>\n",
       "      <td>0.01</td>\n",
       "      <td>1</td>\n",
       "      <td>0</td>\n",
       "      <td>0.0</td>\n",
       "      <td>136</td>\n",
       "      <td>0</td>\n",
       "      <td>1</td>\n",
       "      <td>255</td>\n",
       "      <td>0</td>\n",
       "      <td>1.0</td>\n",
       "    </tr>\n",
       "    <tr>\n",
       "      <th>1</th>\n",
       "      <td>0</td>\n",
       "      <td>1</td>\n",
       "      <td>1.00</td>\n",
       "      <td>86</td>\n",
       "      <td>0</td>\n",
       "      <td>0.0</td>\n",
       "      <td>1</td>\n",
       "      <td>0</td>\n",
       "      <td>0</td>\n",
       "      <td>134</td>\n",
       "      <td>0</td>\n",
       "      <td>0.0</td>\n",
       "    </tr>\n",
       "    <tr>\n",
       "      <th>2</th>\n",
       "      <td>1</td>\n",
       "      <td>1</td>\n",
       "      <td>1.00</td>\n",
       "      <td>57</td>\n",
       "      <td>0</td>\n",
       "      <td>0.0</td>\n",
       "      <td>1</td>\n",
       "      <td>0</td>\n",
       "      <td>0</td>\n",
       "      <td>3</td>\n",
       "      <td>0</td>\n",
       "      <td>0.0</td>\n",
       "    </tr>\n",
       "    <tr>\n",
       "      <th>3</th>\n",
       "      <td>1</td>\n",
       "      <td>0</td>\n",
       "      <td>1.00</td>\n",
       "      <td>86</td>\n",
       "      <td>0</td>\n",
       "      <td>0.0</td>\n",
       "      <td>1</td>\n",
       "      <td>0</td>\n",
       "      <td>0</td>\n",
       "      <td>29</td>\n",
       "      <td>0</td>\n",
       "      <td>0.5</td>\n",
       "    </tr>\n",
       "    <tr>\n",
       "      <th>4</th>\n",
       "      <td>0</td>\n",
       "      <td>1</td>\n",
       "      <td>1.00</td>\n",
       "      <td>255</td>\n",
       "      <td>1</td>\n",
       "      <td>0.0</td>\n",
       "      <td>4</td>\n",
       "      <td>1</td>\n",
       "      <td>0</td>\n",
       "      <td>155</td>\n",
       "      <td>0</td>\n",
       "      <td>0.0</td>\n",
       "    </tr>\n",
       "  </tbody>\n",
       "</table>\n",
       "</div>"
      ],
      "text/plain": [
       "   is_intrusion  flag_SF  same_srv_rate  dst_host_srv_count  logged_in  \\\n",
       "0             1        0           0.01                   1          0   \n",
       "1             0        1           1.00                  86          0   \n",
       "2             1        1           1.00                  57          0   \n",
       "3             1        0           1.00                  86          0   \n",
       "4             0        1           1.00                 255          1   \n",
       "\n",
       "   serror_rate  count  service_http  service_private  dst_host_count  \\\n",
       "0          0.0    136             0                1             255   \n",
       "1          0.0      1             0                0             134   \n",
       "2          0.0      1             0                0               3   \n",
       "3          0.0      1             0                0              29   \n",
       "4          0.0      4             1                0             155   \n",
       "\n",
       "   service_domain_u  srv_rerror_rate  \n",
       "0                 0              1.0  \n",
       "1                 0              0.0  \n",
       "2                 0              0.0  \n",
       "3                 0              0.5  \n",
       "4                 0              0.0  "
      ]
     },
     "execution_count": 4,
     "metadata": {},
     "output_type": "execute_result"
    }
   ],
   "source": [
    "test_df.head()"
   ]
  },
  {
   "cell_type": "markdown",
   "metadata": {},
   "source": [
    "## Create Feature Set (Data Matrix X) and Target (1D Vector y)"
   ]
  },
  {
   "cell_type": "code",
   "execution_count": 5,
   "metadata": {},
   "outputs": [],
   "source": [
    "y = train_df['is_intrusion']\n",
    "X = train_df.drop(columns = 'is_intrusion')"
   ]
  },
  {
   "cell_type": "markdown",
   "metadata": {},
   "source": [
    "## Standardize Data"
   ]
  },
  {
   "cell_type": "code",
   "execution_count": 6,
   "metadata": {},
   "outputs": [],
   "source": [
    "from sklearn.preprocessing import StandardScaler\n",
    "scaler = StandardScaler().fit(X)\n",
    "X = scaler.transform(X)"
   ]
  },
  {
   "cell_type": "markdown",
   "metadata": {},
   "source": [
    "## Train-Test split"
   ]
  },
  {
   "cell_type": "code",
   "execution_count": 7,
   "metadata": {},
   "outputs": [],
   "source": [
    "from sklearn.model_selection import train_test_split\n",
    "X_train, X_test, y_train, y_test = train_test_split(X, y, test_size=0.2, random_state=42)"
   ]
  },
  {
   "cell_type": "code",
   "execution_count": 8,
   "metadata": {},
   "outputs": [],
   "source": [
    "from sklearn.model_selection import GridSearchCV, cross_val_score, cross_val_predict"
   ]
  },
  {
   "cell_type": "markdown",
   "metadata": {},
   "source": [
    "## Benchmarking Classifiers"
   ]
  },
  {
   "cell_type": "code",
   "execution_count": 9,
   "metadata": {},
   "outputs": [],
   "source": [
    "from sklearn.linear_model import LogisticRegression\n",
    "from sklearn.tree import DecisionTreeClassifier\n",
    "from sklearn.neighbors import KNeighborsClassifier\n",
    "\n",
    "classifier_list = ['Logistic Regression', 'K Nearest Neighbors', 'Decision Tree']\n",
    "\n",
    "classifiers = [\n",
    "    LogisticRegression(n_jobs=-1, random_state=42),\n",
    "    KNeighborsClassifier(),\n",
    "    DecisionTreeClassifier(random_state=42)\n",
    "]"
   ]
  },
  {
   "cell_type": "code",
   "execution_count": 10,
   "metadata": {},
   "outputs": [
    {
     "name": "stderr",
     "output_type": "stream",
     "text": [
      "c:\\users\\rojin\\appdata\\local\\programs\\python\\python37\\lib\\site-packages\\sklearn\\linear_model\\logistic.py:432: FutureWarning: Default solver will be changed to 'lbfgs' in 0.22. Specify a solver to silence this warning.\n",
      "  FutureWarning)\n",
      "c:\\users\\rojin\\appdata\\local\\programs\\python\\python37\\lib\\site-packages\\sklearn\\linear_model\\logistic.py:1544: UserWarning: 'n_jobs' > 1 does not have any effect when 'solver' is set to 'liblinear'. Got 'n_jobs' = 8.\n",
      "  \" = {}.\".format(effective_n_jobs(self.n_jobs)))\n"
     ]
    }
   ],
   "source": [
    "test_scores = {}\n",
    "train_scores = {}\n",
    "y_pred = {}\n",
    "\n",
    "for name, clfr in zip(classifier_list, classifiers):\n",
    "    clfr.fit(X_train, y_train)\n",
    "    \n",
    "    train_score = clfr.score(X_train, y_train)\n",
    "    test_score = clfr.score(X_test, y_test)\n",
    "    pred = clfr.predict(X_test)\n",
    "    \n",
    "    train_scores[name] = train_score\n",
    "    test_scores[name] = test_score\n",
    "    y_pred[name] = pred"
   ]
  },
  {
   "cell_type": "code",
   "execution_count": 11,
   "metadata": {},
   "outputs": [
    {
     "name": "stdout",
     "output_type": "stream",
     "text": [
      "Train Accuracies:\n"
     ]
    },
    {
     "data": {
      "text/plain": [
       "{'Logistic Regression': 0.9410976710955873,\n",
       " 'K Nearest Neighbors': 0.9866239320479872,\n",
       " 'Decision Tree': 0.9926471317860226}"
      ]
     },
     "execution_count": 11,
     "metadata": {},
     "output_type": "execute_result"
    }
   ],
   "source": [
    "print('Train Accuracies:')\n",
    "train_scores"
   ]
  },
  {
   "cell_type": "code",
   "execution_count": 12,
   "metadata": {},
   "outputs": [
    {
     "name": "stdout",
     "output_type": "stream",
     "text": [
      "Test Accuracies:\n"
     ]
    },
    {
     "data": {
      "text/plain": [
       "{'Logistic Regression': 0.94129787656281,\n",
       " 'K Nearest Neighbors': 0.9824568366739432,\n",
       " 'Decision Tree': 0.9792022226632269}"
      ]
     },
     "execution_count": 12,
     "metadata": {},
     "output_type": "execute_result"
    }
   ],
   "source": [
    "print('Test Accuracies:')\n",
    "test_scores"
   ]
  },
  {
   "cell_type": "markdown",
   "metadata": {},
   "source": [
    "## Create Classifier Model"
   ]
  },
  {
   "cell_type": "markdown",
   "metadata": {},
   "source": [
    "## Hyperparameter Tuning"
   ]
  },
  {
   "cell_type": "code",
   "execution_count": 13,
   "metadata": {},
   "outputs": [
    {
     "name": "stdout",
     "output_type": "stream",
     "text": [
      "Best Score (accuracy): 0.977468\n",
      "Optimal Hyperparameter Values:  {'max_depth': 10, 'min_samples_leaf': 2}\n",
      "\n",
      "\n",
      "Wall time: 45.7 s\n"
     ]
    }
   ],
   "source": [
    "%%time\n",
    "from sklearn.model_selection import GridSearchCV, cross_val_score, cross_val_predict\n",
    "param_grid = {'min_samples_leaf': [1, 2, 3, 4, 5, 6, 7, 8],\n",
    "              'max_depth': [2, 3, 4, 5, 6, 7, 8, 9, 10]}\n",
    "\n",
    "dt_clf = DecisionTreeClassifier()\n",
    "\n",
    "dt_clf_cv = GridSearchCV(dt_clf, param_grid, scoring='f1', cv=10, verbose=0, n_jobs=-1)\n",
    "dt_clf_cv.fit(X_train, y_train)\n",
    "\n",
    "params_optimal = dt_clf_cv.best_params_\n",
    "\n",
    "print(\"Best Score (accuracy): %f\" % dt_clf_cv.best_score_)\n",
    "print(\"Optimal Hyperparameter Values: \", params_optimal)\n",
    "print(\"\\n\")"
   ]
  },
  {
   "cell_type": "code",
   "execution_count": 14,
   "metadata": {},
   "outputs": [],
   "source": [
    "model = DecisionTreeClassifier(**params_optimal)\n",
    "\n",
    "model.fit(X_train, y_train)\n",
    "\n",
    "y_pred = model.predict(X_test)"
   ]
  },
  {
   "cell_type": "code",
   "execution_count": 15,
   "metadata": {},
   "outputs": [
    {
     "name": "stdout",
     "output_type": "stream",
     "text": [
      "Training accuracy is  0.9819403236849678\n",
      "Testing accuracy is  0.9797578884699345\n"
     ]
    }
   ],
   "source": [
    "train_score = model.score(X_train, y_train)\n",
    "test_score = model.score(X_test, y_test)\n",
    "print(\"Training accuracy is \", train_score)\n",
    "print(\"Testing accuracy is \", test_score)"
   ]
  },
  {
   "cell_type": "markdown",
   "metadata": {},
   "source": [
    "## Performance Measures"
   ]
  },
  {
   "cell_type": "code",
   "execution_count": 16,
   "metadata": {},
   "outputs": [
    {
     "name": "stdout",
     "output_type": "stream",
     "text": [
      "Performance measures for test:\n",
      "--------\n",
      "Accuracy: 0.9797578884699345\n",
      "F1 Score: 0.9782793867120955\n",
      "Precision Score: 0.984063062291149\n",
      "Recall Score: 0.9725632991785926\n",
      "Confusion Matrix:\n",
      " [[13200   186]\n",
      " [  324 11485]]\n"
     ]
    }
   ],
   "source": [
    "from sklearn.metrics import confusion_matrix, precision_score, recall_score, f1_score\n",
    "print('Performance measures for test:')\n",
    "print('--------')\n",
    "print('Accuracy:', test_score)\n",
    "print('F1 Score:',f1_score(y_test, y_pred))\n",
    "print('Precision Score:',precision_score(y_test, y_pred))\n",
    "print('Recall Score:', recall_score(y_test, y_pred))\n",
    "print('Confusion Matrix:\\n', confusion_matrix(y_test, y_pred))"
   ]
  },
  {
   "cell_type": "markdown",
   "metadata": {},
   "source": [
    "## Model Evaluation"
   ]
  },
  {
   "cell_type": "markdown",
   "metadata": {},
   "source": [
    "Now we run our model against some data that it has not seen before ie. test_df. We can think of this data as new network traffic."
   ]
  },
  {
   "cell_type": "code",
   "execution_count": 17,
   "metadata": {},
   "outputs": [],
   "source": [
    "# Create feature matrix X and target vextor y\n",
    "y_eval = test_df['is_intrusion']\n",
    "X_eval = test_df.drop(columns = 'is_intrusion')"
   ]
  },
  {
   "cell_type": "code",
   "execution_count": 18,
   "metadata": {},
   "outputs": [],
   "source": [
    "# Predict on the new unseen test data\n",
    "y_evalpred = model.predict(X_eval)"
   ]
  },
  {
   "cell_type": "code",
   "execution_count": 20,
   "metadata": {},
   "outputs": [
    {
     "name": "stdout",
     "output_type": "stream",
     "text": [
      "Performance measures for test:\n",
      "--------\n",
      "Accuracy: 0.7745641662600363\n",
      "F1 Score: 0.7969149616368287\n",
      "Precision Score: 0.8178313648293963\n",
      "Recall Score: 0.777041770573566\n",
      "Confusion Matrix:\n",
      " [[7490 2221]\n",
      " [2861 9971]]\n"
     ]
    }
   ],
   "source": [
    "# Performance measures\n",
    "from sklearn.metrics import confusion_matrix, precision_score, recall_score, f1_score\n",
    "print('Performance measures for test:')\n",
    "print('--------')\n",
    "print('Accuracy:', model.score(X_eval, y_eval))\n",
    "print('F1 Score:',f1_score(y_eval, y_evalpred))\n",
    "print('Precision Score:',precision_score(y_eval, y_evalpred))\n",
    "print('Recall Score:', recall_score(y_eval, y_evalpred))\n",
    "print('Confusion Matrix:\\n', confusion_matrix(y_eval, y_evalpred))"
   ]
  },
  {
   "cell_type": "markdown",
   "metadata": {},
   "source": [
    "It is clear that our model is overfitting. "
   ]
  },
  {
   "cell_type": "code",
   "execution_count": null,
   "metadata": {},
   "outputs": [],
   "source": []
  }
 ],
 "metadata": {
  "kernelspec": {
   "display_name": "Python 3",
   "language": "python",
   "name": "python3"
  },
  "language_info": {
   "codemirror_mode": {
    "name": "ipython",
    "version": 3
   },
   "file_extension": ".py",
   "mimetype": "text/x-python",
   "name": "python",
   "nbconvert_exporter": "python",
   "pygments_lexer": "ipython3",
   "version": "3.7.5"
  }
 },
 "nbformat": 4,
 "nbformat_minor": 2
}
